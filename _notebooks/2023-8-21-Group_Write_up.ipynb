{
 "cells": [
  {
   "cell_type": "markdown",
   "metadata": {},
   "source": [
    "---\n",
    "toc: true\n",
    "comments: True\n",
    "layout: post\n",
    "title: Group Write Up\n",
    "type: plans\n",
    "courses: { compsci: {week: 4} }\n",
    "---"
   ]
  },
  {
   "cell_type": "markdown",
   "metadata": {},
   "source": [
    "## Things learnt\n",
    "Before taking this quiz, I briefly reviewed all the teamteaches that were presented in class and their file within my notebooks. I wanted to make sure that I had a basic understanding of each concept. While taking the test, there would times where I wouldn't understand a concept because of certain vocabularly word or not knowing the concept. When this happened I would resort to going to online resources like safari to search up certain definitions or specific concept that relates to the problems. I also discussed some question with classmates who had a better understanding of certain concepts and were able to explain way better than online resources. A lot of the question I know I guessed on in the first part and it is best to review the first part of the test before the ap exam. during this process of taking the test, I learned a better understanding of the types of question included in the AP final exam. I also learned a better way of thinking when looking at psuedo code ensuring whether the code is broken and by understanding the psuedo code before looking at the answers. This allows me to understand the prompt and which answer would best suit that question. Answering MC can be difficult because of different variations to a answer but after this test I learned that it is important to have a deep understanding in each team teach from this year and last year and ensuring that you read the question completely."
   ]
  },
  {
   "cell_type": "markdown",
   "metadata": {},
   "source": []
  }
 ],
 "metadata": {
  "language_info": {
   "name": "python"
  }
 },
 "nbformat": 4,
 "nbformat_minor": 2
}

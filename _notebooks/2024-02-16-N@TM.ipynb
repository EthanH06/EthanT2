{
 "cells": [
  {
   "cell_type": "markdown",
   "metadata": {},
   "source": [
    "---\n",
    "toc: true\n",
    "comments: false\n",
    "layout: post\n",
    "title: NATM\n",
    "type: plans\n",
    "courses: { compsci: {week: 4} }\n",
    "---"
   ]
  },
  {
   "cell_type": "markdown",
   "metadata": {},
   "source": [
    "## DEMO\n",
    "\n",
    "We started off with our landing page open for everyone to see and to attract people. We then gave our introductory hook, about how basic, fun online games usually have bad aesthetics and don't have much details. We then showcased signing up with a new account and logging in with that account to access our features. We showcased all of our games, the score system and leader boards, our chatroom, and also showcased our actual API for our login and signup, our chatroom, and our score storage models. We ended the demo with showcasing our admin control account that can edit people’s accounts to stop any bad behavior on our site.\n"
   ]
  },
  {
   "cell_type": "markdown",
   "metadata": {},
   "source": [
    "## GLOWS and GROWS \n",
    "\n",
    "People really loved our aesthetic with the retro gifs and the beautiful color scheme. They also liked the details in the game that kept them engaging such as our well designed 2D graphics. Although most adults didn't talk about the use or enjoyment in the games, multiple of our peers enjoyed playing. We also had people tell us the chatroom was very well designed.\n",
    "\n",
    "People liked our presentation but thought that it would be more unique and useful to have a chatroom within or next to the game so that people could talk about their experience while playing. One person also thought that we could have stored things like player ranking in terms of score in the backend for the chatroom so that it would show when people are talking to others. Other than that there were small styling changes people recommended.\n"
   ]
  },
  {
   "cell_type": "markdown",
   "metadata": {},
   "source": [
    "## IMPLEMENTATION PLAN\n",
    "\n",
    "We plan to include these suggestions by adding the chatroom as a popup that people can click on while they are playing and adding notifications so that people can read messages while playing. We also plan to implement the ranking system that we were suggested to add into our chatroom.\n",
    "\n"
   ]
  },
  {
   "cell_type": "markdown",
   "metadata": {},
   "source": [
    "## PRESENTATIONS I LIKED\n",
    "IMG_3380\n",
    "IMG_3378\n",
    "IMG_3376\n",
    "\n"
   ]
  },
  {
   "cell_type": "markdown",
   "metadata": {},
   "source": [
    "## Within CS\n",
    "\n",
    "The site that I liked the most was one where they had made a site for finding houses. They used an API in order to get a list of houses in California and made it so people could look at houses and save their liked houses to their profile. They also had an AI chatbot that responded to any questions that people had.\n",
    "\n"
   ]
  },
  {
   "cell_type": "markdown",
   "metadata": {},
   "source": [
    "## Outside of CS\n",
    "\n",
    "Screenshot 2024-02-16 at 2 14 28 PM jpeg (1)\n",
    "\n",
    "This person made a nice video about New York for his digital media class. The music was really good and the clips showcased the diversity of NY and both famous and interesting things about the city. It was really cool and also very well made which is why I liked it."
   ]
  }
 ],
 "metadata": {
  "language_info": {
   "name": "python"
  }
 },
 "nbformat": 4,
 "nbformat_minor": 2
}

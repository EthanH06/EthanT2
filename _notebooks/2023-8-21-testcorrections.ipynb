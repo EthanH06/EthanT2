{
 "cells": [
  {
   "cell_type": "markdown",
   "metadata": {},
   "source": [
    "---\n",
    "toc: true\n",
    "comments: false\n",
    "layout: post\n",
    "title: test corrections\n",
    "type: plans\n",
    "courses: { compsci: {week: 4} }\n",
    "---"
   ]
  },
  {
   "cell_type": "markdown",
   "metadata": {},
   "source": [
    "## Things learnt\n",
    "Before taking this quiz, I briefly reviewed all the teamteaches that were presented in class and their file within my notebooks. I wanted to make sure that I had a basic understanding of each concept. While taking the test, there would times where I wouldn't understand a concept because of certain vocabularly word or not knowing the concept. When this happened I would resort to going to online resources like safari to search up certain definitions or specific concept that relates to the problems. I also discussed some question with classmates who had a better understanding of certain concepts and were able to explain way better than online resources. A lot of the question I know I guessed on in the first part and it is best to review the first part of the test before the ap exam. during this process of taking the test, I learned a better understanding of the types of question included in the AP final exam. I also learned a better way of thinking when looking at psuedo code ensuring whether the code is broken and by understanding the psuedo code before looking at the answers. This allows me to understand the prompt and which answer would best suit that question. Answering MC can be difficult because of different variations to a answer but after this test I learned that it is important to have a deep understanding in each team teach from this year and last year and ensuring that you read the question completely."
   ]
  },
  {
   "cell_type": "markdown",
   "metadata": {},
   "source": [
    "\n",
    "## Quiz corrections\n",
    "question 21<br>\n",
    "![image2](homework2.png)<br>\n",
    "\n",
    "My Answer: Over 75% of the files stored are 10 MB in size or less.<br>\n",
    "Correct answer: Over 75% of the files stored are at least 100 KB in size.<br>\n",
    "\n",
    "Reason: 1 MB is equivalent to 1000 KB. This means that the percentage that is greater than 100 KB is 25%, 22%, 2%, and 10%, which in total is 59%. The correct answer shows that anything 10 MB or smaller includes 17%, 24%, 25%, 10%, which adds up to 76%. This answer fits the description of the answer where it is over 75%.<br>\n",
    "\n",
    "question 30<br>\n",
    "![image1](homework1.png)<br>\n",
    "My Answer: Too low<br>\n",
    "Correct Answer: Out of range<br>\n",
    "\n",
    "Reason: The reason that this is out of range is because even if n is equal to 0, it will still increase by increments of 1. If the value of n changes to a negative, then it n will be mulitplied by -1 which makes n equal at least 1. This will make the answer out of range to never be true.<br>\n",
    "\n",
    "question 58<br>\n",
    "The following procedure is intended to return true if at least two of the three parameters are equal in value and is intended to return false otherwise.<br>\n",
    "\n",
    "PROCEDURE AnyPairs (x, y, z)\n",
    "{\n",
    "IF (x = y)\n",
    "{\n",
    "RETURN (true)\n",
    "}\n",
    "ELSE\n",
    "{\n",
    "RETURN (y = z)\n",
    "}\n",
    "}\n",
    "\n",
    "For which of the following procedure calls does the procedure NOT return the intended value?<br>\n",
    "My answer: AnyPairs (\"bat\", \"bat\", \"rat\")<br>\n",
    "Correct answer: AnyPairs (\"bat\", \"cat\", \"bat\")<br>\n",
    "\n",
    "Reason: The reason this answer doesn't work because even though two values are equal when plugged into the equation, the if condition for x=y views it as false therefore making body else statement happen. This then views y=z and when evaluated, returns false.<br>"
   ]
  },
  {
   "cell_type": "code",
   "execution_count": null,
   "metadata": {
    "vscode": {
     "languageId": "plaintext"
    }
   },
   "outputs": [],
   "source": []
  }
 ],
 "metadata": {
  "language_info": {
   "name": "python"
  }
 },
 "nbformat": 4,
 "nbformat_minor": 2
}

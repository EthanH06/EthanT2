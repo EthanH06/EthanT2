{
 "cells": [
  {
   "cell_type": "code",
   "execution_count": null,
   "metadata": {},
   "outputs": [],
   "source": []
  },
  {
   "cell_type": "code",
   "execution_count": 21,
   "metadata": {},
   "outputs": [
    {
     "name": "stdout",
     "output_type": "stream",
     "text": [
      "A burger has: [['meat', 'buns', 'lettuce', 'tomato']]\n",
      "A cheeseburger has: [['cheese', 'meat', 'buns', 'lettuce', 'tomato']]\n"
     ]
    },
    {
     "ename": "AttributeError",
     "evalue": "'tuple' object has no attribute 'input'",
     "output_type": "error",
     "traceback": [
      "\u001b[0;31m---------------------------------------------------------------------------\u001b[0m",
      "\u001b[0;31mAttributeError\u001b[0m                            Traceback (most recent call last)",
      "\u001b[0;32m/tmp/ipykernel_5600/2270795487.py\u001b[0m in \u001b[0;36m<module>\u001b[0;34m\u001b[0m\n\u001b[1;32m     12\u001b[0m \u001b[0mprint\u001b[0m\u001b[0;34m(\u001b[0m\u001b[0;34m\"A cheeseburger has:\"\u001b[0m \u001b[0;34m,\u001b[0m \u001b[0mcheeseburgeringredients\u001b[0m\u001b[0;34m)\u001b[0m\u001b[0;34m\u001b[0m\u001b[0;34m\u001b[0m\u001b[0m\n\u001b[1;32m     13\u001b[0m \u001b[0;34m\u001b[0m\u001b[0m\n\u001b[0;32m---> 14\u001b[0;31m \u001b[0muser\u001b[0m\u001b[0;34m.\u001b[0m\u001b[0minput\u001b[0m\u001b[0;34m(\u001b[0m\u001b[0;34m\"Would you like to choose random ingredients.\"\u001b[0m\u001b[0;34m)\u001b[0m\u001b[0;34m\u001b[0m\u001b[0;34m\u001b[0m\u001b[0m\n\u001b[0m",
      "\u001b[0;31mAttributeError\u001b[0m: 'tuple' object has no attribute 'input'"
     ]
    }
   ],
   "source": [
    "import random\n",
    "\n",
    "ingredients = [\"cheese\", \"meat\", \"buns\", \"lettuce\", \"tomato\"]\n",
    "burgeringredients = []\n",
    "cheeseburgeringredients = []\n",
    "textinput = input(\"Would you like to choose random ingredients. answer Yes or No\")\n",
    "randomfood = ()\n",
    "\n",
    "burgeringredients.append(ingredients[1:5])\n",
    "\n",
    "cheeseburgeringredients.append(ingredients[0:5])\n",
    "print(\"A burger has:\" , burgeringredients)\n",
    "print(\"A cheeseburger has:\" , cheeseburgeringredients)\n",
    "\n",
    "if textinput == 'yes'{\n",
    "    \n",
    "}\n",
    "\n",
    "\n"
   ]
  }
 ],
 "metadata": {
  "kernelspec": {
   "display_name": "Python 3",
   "language": "python",
   "name": "python3"
  },
  "language_info": {
   "codemirror_mode": {
    "name": "ipython",
    "version": 3
   },
   "file_extension": ".py",
   "mimetype": "text/x-python",
   "name": "python",
   "nbconvert_exporter": "python",
   "pygments_lexer": "ipython3",
   "version": "3.10.12"
  }
 },
 "nbformat": 4,
 "nbformat_minor": 2
}

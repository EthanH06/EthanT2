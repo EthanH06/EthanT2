{
 "cells": [
  {
   "cell_type": "markdown",
   "metadata": {},
   "source": [
    "---\n",
    "toc: true\n",
    "comments: true\n",
    "layout: post\n",
    "title: Benefitial and Harmful Effects\n",
    "description: Team teach about beneficial and harmful effects\n",
    "courses: { compsci: {week: 15} }\n",
    "type: hacks\n",
    "---"
   ]
  },
  {
   "cell_type": "markdown",
   "metadata": {},
   "source": [
    "## Programming effects\n",
    "Programming, like any other field, has both beneficial and potentially harmful aspects. The more that programming advances, the more we have to discuss benefits and harmful effects that it brings to society."
   ]
  },
  {
   "cell_type": "markdown",
   "metadata": {},
   "source": [
    "## Example of Program with both benefitial and harmful effects"
   ]
  },
  {
   "cell_type": "code",
   "execution_count": 1,
   "metadata": {},
   "outputs": [
    {
     "name": "stdout",
     "output_type": "stream",
     "text": [
      "Sorry, the business is closed at the moment. Please call back during business hours (8 am to 6 pm).\n"
     ]
    }
   ],
   "source": [
    "    # Automated phone system of a customer service line for a major company\n",
    "    def check_business_hours(hour):\n",
    "        return 8 <= hour < 18\n",
    "\n",
    "    def main():\n",
    "        try:\n",
    "            user_input = input(\"Please enter the current time (24-hour format, e.g., 14 for 2:00 PM): \")\n",
    "            current_time = int(user_input)\n",
    "\n",
    "            if check_business_hours(current_time):\n",
    "                print(\"You are being connected to customer service.\")\n",
    "            else:\n",
    "                print(\"Sorry, the business is closed at the moment. Please call back during business hours (8 am to 6 pm).\")\n",
    "\n",
    "        except ValueError:\n",
    "            print(\"Invalid input. Please enter a valid 24-hour time.\")\n",
    "\n",
    "    if __name__ == \"__main__\":\n",
    "        main()"
   ]
  },
  {
   "cell_type": "markdown",
   "metadata": {},
   "source": [
    "## Beneficial effects: \n",
    "- It saves time for both parties as they limit the hours that a worker needs to answer calls for the company. \n",
    "- It checks whether the entered time is within the business hours (8 am to 6 pm). This ensures that customers are only connected to customer service during operational hours.\n",
    "## Negative effects:\n",
    "- The time may not be versatile for people in different time zones.  \n",
    "- The system lacks customization options such as providing services available outside business hours such as offering automated assistance, or redirecting to online support resources."
   ]
  },
  {
   "cell_type": "markdown",
   "metadata": {},
   "source": [
    "## The benefits and harmful effects of a Multirotor\n",
    "A multirotors also known as a drone, is a type of rotorcraft that has multiple rotors. Inventions such as these are the same as code and have harmful and beneficial effects.\n",
    "\n",
    "Benefits: Deliveries, finding lost people, aereal photography is easy.\n",
    "Harmful: Flying in unregulated zones is illegal and dangerous, privacy concerns."
   ]
  },
  {
   "cell_type": "markdown",
   "metadata": {},
   "source": [
    "## Popcorn Hack 1: Name one beneficial and harmful effect of a Wii controller. (hint: it can be a physical harmful effect)\n",
    "Benefit:Allows you to interact with games on a screen.\n",
    "\n",
    "Effect:You can hit or harm yourself with the controller."
   ]
  },
  {
   "cell_type": "markdown",
   "metadata": {},
   "source": [
    "## Computing innovations can have impacts beyond their intended effects"
   ]
  },
  {
   "cell_type": "markdown",
   "metadata": {},
   "source": [
    "## Example 1: The internet\n",
    "The internet was originally created for scientists to easily share information remotely without needing to send or receive mail from one another. Nowadays, many people use the internet more than they sleep, as the internet has become an integral part of our lives in many ways. Think about how often you use social media, or do school assignments online, or send a simple email. Our use of the internet can cultivate dopamine feedback loops, such as when your crush likes your post on instagram, you get a snap back from that cute girl, or you find a funny TikTok that makes you laugh hysterically. These make us want to seek out these feelings more and more and experience those seconds of happiness. These effects of the internet lead to people having major issues like sleep deprivation, depression, and anxiety.\n",
    "\n",
    "- Original Purpose:\n",
    "    - Created for scientists to share information remotely.\n",
    "    - Eliminated the need for physical mail in communication.\n",
    "- Contemporary Usage:\n",
    "    - Integral part of daily life.\n",
    "    - Extensive use for social media, school assignments, emails.\n",
    "- Impact on Well-being:\n",
    "    - Potential for dopamine feedback loops.\n",
    "    - Examples: Social media likes, Snapchat responses, TikTok enjoyment.\n",
    "- Consequences:\n",
    "    - Increased internet use may lead to sleep deprivation.\n",
    "    - Associated with higher rates of depression and anxiety."
   ]
  },
  {
   "cell_type": "markdown",
   "metadata": {},
   "source": [
    "## Popcorn Hack 2: What 3 apps do you hae the most screentime on and how much are you on it? \n",
    "1: instagram: 32 hours<br>\n",
    "2: brawl stars: 31 hours<br>\n",
    "3:spotify: 26 hours<br>"
   ]
  },
  {
   "cell_type": "markdown",
   "metadata": {},
   "source": [
    "## Example 2: Microtransactions\n",
    "Definition: a payment of very small value, especially for a special feature of a product such as a video game\n",
    "\n",
    "- Original Purpose:\n",
    "    - Free game access, purchase virtual extras.\n",
    "- Usage:\n",
    "    - Common in free-to-play games, revenue for developers.\n",
    "- Deviation:\n",
    "    - Pay-to-Win, aggressive tactics, loot boxes.\n",
    "    - Microtransactions may reduce ads but imply paywalls.\n",
    "- Concerns:\n",
    "    - Debates on industry impact, ethics.\n",
    "    - Mixed player views: support vs. criticism.\n",
    "- Ongoing:\n",
    "    - Continuous industry debates."
   ]
  },
  {
   "cell_type": "markdown",
   "metadata": {},
   "source": [
    "## Example 3: Artificial Intelligence\n",
    "\n",
    "### What is AI?\n",
    "\n",
    "Artificial Intelligence (AI) is about making computers do tasks that typically require human intelligence, like learning, problem-solving, and understanding language.\n",
    "\n",
    "### Beneficial Effects of AI:\n",
    "\n",
    "1. **Automation and Efficiency:**\n",
    "   - AI helps with repetitive tasks, making things faster and freeing up time for more interesting work.\n",
    "\n",
    "2. **Medical Advancements:**\n",
    "   - AI assists in medical tasks, improving diagnosis, treatment plans, and drug discovery.\n",
    "\n",
    "3. **Enhanced Customer Experience:**\n",
    "   - AI-powered chatbots provide quick and personalized customer support.\n",
    "\n",
    "4. **Innovations in Education:**\n",
    "   - AI creates personalized learning experiences for students.\n",
    "\n",
    "5. **Predictive Analytics:**\n",
    "   - AI analyzes data to make predictions, helping businesses make better decisions.\n",
    "\n",
    "### Harmful Effects of AI:\n",
    "\n",
    "1. **Job Displacement:**\n",
    "   - Automation by AI can lead to job loss in some industries.\n",
    "\n",
    "2. **Bias and Fairness Issues:**\n",
    "   - AI systems might have biases, causing unfair outcomes.\n",
    "\n",
    "3. **Privacy Concerns:**\n",
    "   - AI use in surveillance raises concerns about privacy.\n",
    "\n",
    "4. **Autonomous Weapons:**\n",
    "   - AI-powered weapons raise ethical questions about their use in warfare.\n",
    "\n",
    "5. **Dependency on Technology:**\n",
    "   - Relying too much on AI may lead to a loss of human skills and critical thinking."
   ]
  },
  {
   "cell_type": "markdown",
   "metadata": {},
   "source": [
    "## Homework Hack: Come up with a Program with a beneficial and harmful effects. (You don't have to code it, but your ideas has to be detailed and organized)"
   ]
  },
  {
   "cell_type": "markdown",
   "metadata": {},
   "source": [
    "(Homework right here) \n",
    "Beneficial effects: When playing this game you can have a fun time playing this game and can solve bordom. Also when you guess the correct number, you feel happy and continue to play the game to get that happiness. \n",
    "\n",
    "Harmful effects: Playing this game can cause you to waste a lot of time. Also it might take a long time to figure out what number you are suppose to guess. This can cause a lot of fustration which someone people can't control and might release their fustration on their siblings, friends, or family members. This can damage relationships."
   ]
  },
  {
   "cell_type": "markdown",
   "metadata": {},
   "source": [
    "\n",
    "<!DOCTYPE html>\n",
    "<html lang=\"en\">\n",
    "<head>\n",
    "  <meta charset=\"UTF-8\">\n",
    "  <meta name=\"viewport\" content=\"width=device-width, initial-scale=1.0\">\n",
    "  <title>Guessing Game</title>\n",
    "  <style>\n",
    "    body {\n",
    "      text-align: center;\n",
    "      font-family: Arial, sans-serif;\n",
    "    }\n",
    "\n",
    "    input {\n",
    "      padding: 5px;\n",
    "      margin: 5px;\n",
    "    }\n",
    "  </style>\n",
    "</head>\n",
    "<body>\n",
    "\n",
    "  <h1>Guess the Number Game</h1>\n",
    "  <p>Guess a number between 1 and 20:</p>\n",
    "  <input type=\"text\" id=\"guessInput\" />\n",
    "  <button onclick=\"checkGuess()\">Submit Guess</button>\n",
    "  <p id=\"message\"></p>\n",
    "\n",
    "  <script>\n",
    "    // Generate a random number between 1 and 20\n",
    "    const secretNumber = Math.floor(Math.random() * 20) + 1;\n",
    "\n",
    "    let attempts = 0;\n",
    "    const maxAttempts = 5;\n",
    "\n",
    "    function checkGuess() {\n",
    "      const guessInput = document.getElementById('guessInput');\n",
    "      const messageElement = document.getElementById('message');\n",
    "      const guess = parseInt(guessInput.value);\n",
    "\n",
    "      if (isNaN(guess) || guess < 1 || guess > 20) {\n",
    "        messageElement.textContent = 'Please enter a valid number between 1 and 20.';\n",
    "        return;\n",
    "      }\n",
    "\n",
    "      attempts++;\n",
    "\n",
    "      if (guess === secretNumber) {\n",
    "        messageElement.textContent = `Congratulations! You guessed the correct number in ${attempts} attempts.`;\n",
    "        disableInputAndButton();\n",
    "      } else {\n",
    "        const hint = guess < secretNumber ? 'Too low!' : 'Too high!';\n",
    "        messageElement.textContent = `Incorrect. ${hint} Attempts: ${attempts}`;\n",
    "\n",
    "        if (attempts === maxAttempts) {\n",
    "          messageElement.textContent = `Sorry, you've run out of attempts. The correct number was ${secretNumber}.`;\n",
    "          disableInputAndButton();\n",
    "        }\n",
    "      }\n",
    "    }\n",
    "\n",
    "    function disableInputAndButton() {\n",
    "      const guessInput = document.getElementById('guessInput');\n",
    "      const submitButton = document.querySelector('button');\n",
    "      \n",
    "      guessInput.disabled = true;\n",
    "      submitButton.disabled = true;\n",
    "    }\n",
    "  </script>\n",
    "\n",
    "</body>\n",
    "</html>\n"
   ]
  }
 ],
 "metadata": {
  "kernelspec": {
   "display_name": "Python 3",
   "language": "python",
   "name": "python3"
  },
  "language_info": {
   "codemirror_mode": {
    "name": "ipython",
    "version": 3
   },
   "file_extension": ".py",
   "mimetype": "text/x-python",
   "name": "python",
   "nbconvert_exporter": "python",
   "pygments_lexer": "ipython3",
   "version": "3.10.12"
  }
 },
 "nbformat": 4,
 "nbformat_minor": 2
}
